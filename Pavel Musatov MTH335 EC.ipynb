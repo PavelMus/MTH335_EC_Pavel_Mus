{
 "cells": [
  {
   "cell_type": "code",
   "execution_count": 14,
   "metadata": {},
   "outputs": [
    {
     "name": "stdout",
     "output_type": "stream",
     "text": [
      "Secant method\n",
      "Function x^5-x-1\n",
      "x0,x1 = 0.8, 0.9\n",
      "Root: 1.167304\n",
      "# of Steps: 12\n",
      "Root plugged in to the function: 0.000000\n",
      "\n",
      "x0,x1 = 0.5, 0.6\n",
      "Root: 1.167304\n",
      "# of Steps: 25\n",
      "Root plugged in to the function: 0.000000\n",
      "\n"
     ]
    }
   ],
   "source": [
    "#Im new to Julia, just in case it wasn't obvious.\n",
    "type Func_1\n",
    "    p::Float64\n",
    "    c::Float64\n",
    "end\n",
    "\n",
    "(f::Func_1)(x) = x^f.p - x - f.c #seting up a callable function\n",
    "\n",
    "f1 = Func_1(5,1) #this makes the f1 = x^5 - x - 1\n",
    "\n",
    "function secant_method(f, x0, x1, c=0)\n",
    "    counter = c\n",
    "    root = x1\n",
    "    \n",
    "    if(counter == 100) #making sure that that the function actually ends\n",
    "        return root, counter\n",
    "    end\n",
    "    \n",
    "    if(isequal(root, NaN)) #checks if we've gone out of percision range for Float64\n",
    "        return x0, counter\n",
    "    end\n",
    "    x2 = x1- f(x1)*( ( x1 - x0) / ( f(x1) - f(x0)) )\n",
    "    counter += 1\n",
    "    \n",
    "    secant_method(f, x1, x2, counter)\n",
    "end\n",
    "\n",
    "root_count = secant_method(f1,0.8,0.9)\n",
    "\n",
    "@printf(\"Secant method\\nFunction x^5-x-1\\nx0,x1 = 0.8, 0.9\\n\")\n",
    "@printf(\"Root: %f\\n# of Steps: %i\\nRoot plugged in to the function: %f\\n\\n\", root_count[1], root_count[2], f1(root_count[1]))\n",
    "\n",
    "root_count2 = secant_method(f1,0.5,0.6)\n",
    "\n",
    "@printf(\"x0,x1 = 0.5, 0.6\\n\")\n",
    "@printf(\"Root: %f\\n# of Steps: %i\\nRoot plugged in to the function: %f\\n\\n\", root_count2[1], root_count2[2], f1(root_count2[1]))"
   ]
  },
  {
   "cell_type": "code",
   "execution_count": 13,
   "metadata": {},
   "outputs": [
    {
     "name": "stdout",
     "output_type": "stream",
     "text": [
      "Secant method\n",
      "Functon e^x-x^4\n",
      "x0,x1 = 7.9, 8.0\n",
      "Root: 8.613169\n",
      "# of Steps: 11\n",
      "Root plugged in to the function: 0.000000\n",
      "\n"
     ]
    }
   ],
   "source": [
    "type Func_2\n",
    "    p::Float64\n",
    "    c::Float64\n",
    "end\n",
    "\n",
    "(f::Func_2)(x) = f.p^x - x^f.c #seting up a callable function\n",
    "\n",
    "f2 = Func_2(e,4) #this makes the f1 = e^x - x^4\n",
    "\n",
    "function secant_method(f, x0, x1, c=0)\n",
    "    counter = c\n",
    "    root = x1\n",
    "    \n",
    "    if(counter == 100) #making sure that that the function actually ends\n",
    "        return root, counter\n",
    "    end\n",
    "    \n",
    "    if(isequal(root, NaN)) #checks if we've gone out of percision range for Float64\n",
    "        return x0, counter\n",
    "    end\n",
    "\n",
    "    x2 = x1- f(x1)*( ( x1 - x0) / ( f(x1) - f(x0)) )\n",
    "    counter += 1\n",
    "    \n",
    "    secant_method(f, x1, x2, counter)\n",
    "end\n",
    "\n",
    "root_count = secant_method(f2,7.9,8.0)\n",
    "\n",
    "@printf(\"Secant method\\nFuncton e^x-x^4\\nx0,x1 = 7.9, 8.0\\n\")\n",
    "@printf(\"Root: %f\\n# of Steps: %i\\nRoot plugged in to the function: %f\\n\\n\", root_count[1], root_count[2], f2(root_count[1]))"
   ]
  },
  {
   "cell_type": "code",
   "execution_count": 38,
   "metadata": {},
   "outputs": [
    {
     "name": "stdout",
     "output_type": "stream",
     "text": [
      "Secant method\n",
      "Functon { -b<x<b:2mx, x>b:2mb+m(x-b), x<-b:2mb+m(m+b) }\n",
      "x0,x1 = -1.0, 0.75\n",
      "Root: 0.000000\n",
      "# of Steps: 5\n",
      "Root plugged in to the function: 0.000000\n",
      "\n"
     ]
    }
   ],
   "source": [
    "type Func_3\n",
    "    m::Float64\n",
    "    b::Float64\n",
    "end\n",
    "\n",
    "(f::Func_3)(x) =        #making the piecewise function { -b<x<b:2mx, x>b:2mb+m(x-b), x<-b:2mb+m(m+b) }\n",
    "if(x>-f.b && x<f.b)\n",
    "    return 2*f.m*x\n",
    "elseif(x>f.b)\n",
    "    return 2*f.m*f.b + f.m*(x - f.b)\n",
    "elseif(x<-f.b)\n",
    "    return -2*f.m*f.b + f.m*(x + f.b)\n",
    "end\n",
    "\n",
    "f3 = Func_3(1,0.5)\n",
    "\n",
    "function secant_method(f, x0, x1, c=0)\n",
    "    counter = c\n",
    "    root = x1\n",
    "    \n",
    "    if(counter == 100) #making sure that that the function actually ends\n",
    "        return root, counter\n",
    "    end\n",
    "    \n",
    "    if(isequal(root, NaN)) #checks if we've gone out of percision range for Float64\n",
    "        return x0, counter\n",
    "    end\n",
    "\n",
    "    x2 = x1- f(x1)*( ( x1 - x0) / ( f(x1) - f(x0)) )\n",
    "    counter += 1\n",
    "    \n",
    "    secant_method(f, x1, x2, counter)\n",
    "end\n",
    "\n",
    "root_count = secant_method(f3,-1.0,0.75)\n",
    "\n",
    "@printf(\"Secant method\\nFuncton { -b<x<b:2mx, x>b:2mb+m(x-b), x<-b:2mb+m(m+b) }\\nx0,x1 = -1.0, 0.75\\n\")\n",
    "@printf(\"Root: %f\\n# of Steps: %i\\nRoot plugged in to the function: %f\\n\\n\", root_count[1], root_count[2], f3(root_count[1]))"
   ]
  }
 ],
 "metadata": {
  "kernelspec": {
   "display_name": "Julia 0.6.2",
   "language": "julia",
   "name": "julia-0.6"
  },
  "language_info": {
   "file_extension": ".jl",
   "mimetype": "application/julia",
   "name": "julia",
   "version": "0.6.2"
  }
 },
 "nbformat": 4,
 "nbformat_minor": 2
}
